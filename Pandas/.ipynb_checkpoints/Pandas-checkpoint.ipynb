{
 "cells": [
  {
   "cell_type": "markdown",
   "id": "b6646cbc",
   "metadata": {},
   "source": [
    "# Installation"
   ]
  },
  {
   "cell_type": "code",
   "execution_count": null,
   "id": "5aa8e311",
   "metadata": {},
   "outputs": [],
   "source": [
    "!pip install pandas"
   ]
  },
  {
   "cell_type": "markdown",
   "id": "f1169ac7",
   "metadata": {},
   "source": [
    "# Importing Pandas"
   ]
  },
  {
   "cell_type": "code",
   "execution_count": 1,
   "id": "0b2fb561",
   "metadata": {},
   "outputs": [],
   "source": [
    "import pandas as pd"
   ]
  },
  {
   "cell_type": "markdown",
   "id": "d8888f21",
   "metadata": {},
   "source": [
    "# Data Structures"
   ]
  },
  {
   "cell_type": "markdown",
   "id": "8b132f41",
   "metadata": {},
   "source": [
    "## Series"
   ]
  },
  {
   "cell_type": "markdown",
   "id": "3f97307f",
   "metadata": {},
   "source": [
    "A Series is a one-dimensional array-like object that can hold various data types."
   ]
  },
  {
   "cell_type": "markdown",
   "id": "a0ec261c",
   "metadata": {},
   "source": [
    "### 1. Creating a Series:"
   ]
  },
  {
   "cell_type": "code",
   "execution_count": 5,
   "id": "af912b13",
   "metadata": {},
   "outputs": [
    {
     "name": "stdout",
     "output_type": "stream",
     "text": [
      "0    1.0\n",
      "1    3.0\n",
      "2    5.0\n",
      "3    NaN\n",
      "4    6.0\n",
      "5    8.0\n",
      "dtype: float64\n",
      "a    1\n",
      "b    2\n",
      "c    3\n",
      "dtype: int64\n"
     ]
    }
   ],
   "source": [
    "import numpy as np\n",
    "\n",
    "# From a list\n",
    "s = pd.Series([1, 3, 5, np.nan, 6, 8])\n",
    "print(s)\n",
    "\n",
    "# From a dictionary\n",
    "s = pd.Series({'a': 1, 'b': 2, 'c': 3})\n",
    "print(s)"
   ]
  },
  {
   "cell_type": "markdown",
   "id": "bbfa1258",
   "metadata": {},
   "source": [
    "### 2. Accessing Data in Series"
   ]
  },
  {
   "cell_type": "code",
   "execution_count": 7,
   "id": "9d4f791e",
   "metadata": {},
   "outputs": [
    {
     "name": "stdout",
     "output_type": "stream",
     "text": [
      "1\n",
      "1\n",
      "a    1\n",
      "b    2\n",
      "c    3\n",
      "dtype: int64\n",
      "c    3\n",
      "dtype: int64\n"
     ]
    }
   ],
   "source": [
    "print(s.iloc[0])  # First element\n",
    "print(s['a'])  # Element with label 'a'\n",
    "print(s[:3])  # First three elements\n",
    "print(s[s > 2])  # Elements greater than 2"
   ]
  },
  {
   "cell_type": "markdown",
   "id": "8a6fad08",
   "metadata": {},
   "source": [
    "## DataFrame"
   ]
  },
  {
   "cell_type": "markdown",
   "id": "7c1666a4",
   "metadata": {},
   "source": [
    "A DataFrame is a two-dimensional, size-mutable, and potentially heterogeneous tabular data structure.\n",
    "\n"
   ]
  },
  {
   "cell_type": "markdown",
   "id": "2ecd5e63",
   "metadata": {},
   "source": [
    "### 1. Creating a DataFrame:"
   ]
  },
  {
   "cell_type": "code",
   "execution_count": 9,
   "id": "3424c699",
   "metadata": {},
   "outputs": [
    {
     "name": "stdout",
     "output_type": "stream",
     "text": [
      "   A  B   C\n",
      "0  1  5   9\n",
      "1  2  6  10\n",
      "2  3  7  11\n",
      "3  4  8  12\n",
      "   A  B    C\n",
      "0  1  2  NaN\n",
      "1  3  4  5.0\n"
     ]
    }
   ],
   "source": [
    "# From a dictionary of lists\n",
    "data = {\n",
    "    'A': [1, 2, 3, 4],\n",
    "    'B': [5, 6, 7, 8],\n",
    "    'C': [9, 10, 11, 12]\n",
    "}\n",
    "df = pd.DataFrame(data)\n",
    "print(df)\n",
    "\n",
    "# From a list of dictionaries\n",
    "data = [\n",
    "    {'A': 1, 'B': 2},\n",
    "    {'A': 3, 'B': 4, 'C': 5}\n",
    "]\n",
    "df = pd.DataFrame(data)\n",
    "print(df)"
   ]
  },
  {
   "cell_type": "markdown",
   "id": "fff42d06",
   "metadata": {},
   "source": [
    "### 2. Viewing Data"
   ]
  },
  {
   "cell_type": "code",
   "execution_count": 13,
   "id": "d873b0dd",
   "metadata": {},
   "outputs": [
    {
     "name": "stdout",
     "output_type": "stream",
     "text": [
      "    A   B   C\n",
      "0   1   5   9\n",
      "1   2   6  10\n",
      "2   3   7  11\n",
      "3   4   8  12\n",
      "4  11   2   3\n",
      "5  23   3   4\n",
      "6   4   4  11\n",
      "7   5  11   7\n",
      "8   5  23   8\n",
      "9  99   4   2\n"
     ]
    }
   ],
   "source": [
    "data = {\n",
    "    'A': [1, 2, 3, 4, 11, 23, 4, 5, 5, 99],\n",
    "    'B': [5, 6, 7, 8, 2, 3, 4, 11, 23, 4],\n",
    "    'C': [9, 10, 11, 12, 3, 4, 11, 7, 8, 2]\n",
    "}\n",
    "df = pd.DataFrame(data)\n",
    "print(df)"
   ]
  },
  {
   "cell_type": "code",
   "execution_count": 14,
   "id": "a6a14c23",
   "metadata": {},
   "outputs": [
    {
     "name": "stdout",
     "output_type": "stream",
     "text": [
      "    A  B   C\n",
      "0   1  5   9\n",
      "1   2  6  10\n",
      "2   3  7  11\n",
      "3   4  8  12\n",
      "4  11  2   3\n"
     ]
    }
   ],
   "source": [
    "print(df.head())  # First 5 rows"
   ]
  },
  {
   "cell_type": "code",
   "execution_count": 15,
   "id": "f30b3db8",
   "metadata": {},
   "outputs": [
    {
     "name": "stdout",
     "output_type": "stream",
     "text": [
      "    A   B  C\n",
      "7   5  11  7\n",
      "8   5  23  8\n",
      "9  99   4  2\n"
     ]
    }
   ],
   "source": [
    "print(df.tail(3))  # Last 3 rows"
   ]
  },
  {
   "cell_type": "code",
   "execution_count": 16,
   "id": "de09b7fa",
   "metadata": {},
   "outputs": [
    {
     "name": "stdout",
     "output_type": "stream",
     "text": [
      "<class 'pandas.core.frame.DataFrame'>\n",
      "RangeIndex: 10 entries, 0 to 9\n",
      "Data columns (total 3 columns):\n",
      " #   Column  Non-Null Count  Dtype\n",
      "---  ------  --------------  -----\n",
      " 0   A       10 non-null     int64\n",
      " 1   B       10 non-null     int64\n",
      " 2   C       10 non-null     int64\n",
      "dtypes: int64(3)\n",
      "memory usage: 372.0 bytes\n",
      "None\n"
     ]
    }
   ],
   "source": [
    "print(df.info())  # Summary of the DataFrame"
   ]
  },
  {
   "cell_type": "code",
   "execution_count": 17,
   "id": "058bd841",
   "metadata": {},
   "outputs": [
    {
     "name": "stdout",
     "output_type": "stream",
     "text": [
      "               A         B          C\n",
      "count  10.000000  10.00000  10.000000\n",
      "mean   15.700000   7.30000   7.700000\n",
      "std    29.966834   6.11101   3.591657\n",
      "min     1.000000   2.00000   2.000000\n",
      "25%     3.250000   4.00000   4.750000\n",
      "50%     4.500000   5.50000   8.500000\n",
      "75%     9.500000   7.75000  10.750000\n",
      "max    99.000000  23.00000  12.000000\n"
     ]
    }
   ],
   "source": [
    "print(df.describe())  # Statistical summary"
   ]
  },
  {
   "cell_type": "markdown",
   "id": "69ae05d8",
   "metadata": {},
   "source": [
    "### 3. Selecting Data:"
   ]
  },
  {
   "cell_type": "code",
   "execution_count": 19,
   "id": "cf857484",
   "metadata": {},
   "outputs": [
    {
     "name": "stdout",
     "output_type": "stream",
     "text": [
      "0     1\n",
      "1     2\n",
      "2     3\n",
      "3     4\n",
      "4    11\n",
      "5    23\n",
      "6     4\n",
      "7     5\n",
      "8     5\n",
      "9    99\n",
      "Name: A, dtype: int64\n"
     ]
    }
   ],
   "source": [
    "print(df['A'])  # Column 'A'"
   ]
  },
  {
   "cell_type": "code",
   "execution_count": 20,
   "id": "5c004777",
   "metadata": {},
   "outputs": [
    {
     "name": "stdout",
     "output_type": "stream",
     "text": [
      "    A   B\n",
      "0   1   5\n",
      "1   2   6\n",
      "2   3   7\n",
      "3   4   8\n",
      "4  11   2\n",
      "5  23   3\n",
      "6   4   4\n",
      "7   5  11\n",
      "8   5  23\n",
      "9  99   4\n"
     ]
    }
   ],
   "source": [
    "print(df[['A', 'B']])  # Multiple columns"
   ]
  },
  {
   "cell_type": "code",
   "execution_count": 21,
   "id": "f0dae597",
   "metadata": {},
   "outputs": [
    {
     "name": "stdout",
     "output_type": "stream",
     "text": [
      "A    1\n",
      "B    5\n",
      "C    9\n",
      "Name: 0, dtype: int64\n"
     ]
    }
   ],
   "source": [
    "# Selecting rows by position\n",
    "print(df.iloc[0])  # First row"
   ]
  },
  {
   "cell_type": "code",
   "execution_count": 22,
   "id": "573b9fff",
   "metadata": {},
   "outputs": [
    {
     "name": "stdout",
     "output_type": "stream",
     "text": [
      "   A  B   C\n",
      "1  2  6  10\n",
      "2  3  7  11\n"
     ]
    }
   ],
   "source": [
    "print(df.iloc[1:3])  # Second and third rows"
   ]
  },
  {
   "cell_type": "code",
   "execution_count": 23,
   "id": "ba825d07",
   "metadata": {},
   "outputs": [
    {
     "name": "stdout",
     "output_type": "stream",
     "text": [
      "A    1\n",
      "B    5\n",
      "C    9\n",
      "Name: 0, dtype: int64\n"
     ]
    }
   ],
   "source": [
    "# Selecting rows by label\n",
    "print(df.loc[0])  # First row"
   ]
  },
  {
   "cell_type": "code",
   "execution_count": 24,
   "id": "35742429",
   "metadata": {},
   "outputs": [
    {
     "name": "stdout",
     "output_type": "stream",
     "text": [
      "    A   B\n",
      "0   1   5\n",
      "1   2   6\n",
      "2   3   7\n",
      "3   4   8\n",
      "4  11   2\n",
      "5  23   3\n",
      "6   4   4\n",
      "7   5  11\n",
      "8   5  23\n",
      "9  99   4\n"
     ]
    }
   ],
   "source": [
    "print(df.loc[:, ['A', 'B']])  # All rows, specific columns"
   ]
  },
  {
   "cell_type": "markdown",
   "id": "2692d07e",
   "metadata": {},
   "source": [
    "### 4. Filtering Data"
   ]
  },
  {
   "cell_type": "code",
   "execution_count": 27,
   "id": "ff9bf4ee",
   "metadata": {},
   "outputs": [
    {
     "name": "stdout",
     "output_type": "stream",
     "text": [
      "    A   B   C\n",
      "2   3   7  11\n",
      "3   4   8  12\n",
      "4  11   2   3\n",
      "5  23   3   4\n",
      "6   4   4  11\n",
      "7   5  11   7\n",
      "8   5  23   8\n",
      "9  99   4   2\n"
     ]
    }
   ],
   "source": [
    "print(df[df['A'] > 2])  # Rows where column 'A' is greater than 2"
   ]
  },
  {
   "cell_type": "code",
   "execution_count": 26,
   "id": "d09aeb4b",
   "metadata": {},
   "outputs": [
    {
     "name": "stdout",
     "output_type": "stream",
     "text": [
      "    A  B   C\n",
      "1   2  6  10\n",
      "2   3  7  11\n",
      "4  11  2   3\n",
      "5  23  3   4\n",
      "6   4  4  11\n",
      "9  99  4   2\n"
     ]
    }
   ],
   "source": [
    "print(df[(df['A'] > 1) & (df['B'] < 8)])  # Combined conditions"
   ]
  },
  {
   "cell_type": "markdown",
   "id": "cef0bd15",
   "metadata": {},
   "source": [
    "# Data Manipulation"
   ]
  },
  {
   "cell_type": "markdown",
   "id": "225a1b10",
   "metadata": {},
   "source": [
    "### 1. Adding/Removing Columns:"
   ]
  },
  {
   "cell_type": "code",
   "execution_count": 28,
   "id": "18b4f663",
   "metadata": {},
   "outputs": [
    {
     "name": "stdout",
     "output_type": "stream",
     "text": [
      "    A   B   C    D\n",
      "0   1   5   9    6\n",
      "1   2   6  10    8\n",
      "2   3   7  11   10\n",
      "3   4   8  12   12\n",
      "4  11   2   3   13\n",
      "5  23   3   4   26\n",
      "6   4   4  11    8\n",
      "7   5  11   7   16\n",
      "8   5  23   8   28\n",
      "9  99   4   2  103\n"
     ]
    }
   ],
   "source": [
    "df['D'] = df['A'] + df['B']  # New column 'D'\n",
    "print(df)"
   ]
  },
  {
   "cell_type": "code",
   "execution_count": 29,
   "id": "91032740",
   "metadata": {},
   "outputs": [
    {
     "name": "stdout",
     "output_type": "stream",
     "text": [
      "    A   B   C\n",
      "0   1   5   9\n",
      "1   2   6  10\n",
      "2   3   7  11\n",
      "3   4   8  12\n",
      "4  11   2   3\n",
      "5  23   3   4\n",
      "6   4   4  11\n",
      "7   5  11   7\n",
      "8   5  23   8\n",
      "9  99   4   2\n"
     ]
    }
   ],
   "source": [
    "del df['D']  # Remove column 'D'\n",
    "print(df)"
   ]
  },
  {
   "cell_type": "markdown",
   "id": "a47ae991",
   "metadata": {},
   "source": [
    "### 2. Renaming Columns"
   ]
  },
  {
   "cell_type": "code",
   "execution_count": 30,
   "id": "0ddcaa41",
   "metadata": {},
   "outputs": [
    {
     "name": "stdout",
     "output_type": "stream",
     "text": [
      "   Alpha  Beta   C\n",
      "0      1     5   9\n",
      "1      2     6  10\n",
      "2      3     7  11\n",
      "3      4     8  12\n",
      "4     11     2   3\n",
      "5     23     3   4\n",
      "6      4     4  11\n",
      "7      5    11   7\n",
      "8      5    23   8\n",
      "9     99     4   2\n"
     ]
    }
   ],
   "source": [
    "df.rename(columns={'A': 'Alpha', 'B': 'Beta'}, inplace=True) \n",
    "# # df is modified directly, if inplace = True\n",
    "print(df)"
   ]
  },
  {
   "cell_type": "code",
   "execution_count": 33,
   "id": "2faa757a",
   "metadata": {},
   "outputs": [
    {
     "name": "stdout",
     "output_type": "stream",
     "text": [
      "   Alpha  Beta   C\n",
      "0      1     5   9\n",
      "1      2     6  10\n",
      "2      3     7  11\n",
      "3      4     8  12\n",
      "4     11     2   3\n",
      "5     23     3   4\n",
      "6      4     4  11\n",
      "7      5    11   7\n",
      "8      5    23   8\n",
      "9     99     4   2\n"
     ]
    }
   ],
   "source": [
    "df_renamed = df.rename(columns={'A': 'Alpha', 'B': 'Beta'}, inplace=False)\n",
    "print(df_renamed)"
   ]
  },
  {
   "cell_type": "markdown",
   "id": "5863c6df",
   "metadata": {},
   "source": [
    "### 3. Handling Missing Data"
   ]
  },
  {
   "cell_type": "code",
   "execution_count": 36,
   "id": "bb2dee61",
   "metadata": {},
   "outputs": [
    {
     "name": "stdout",
     "output_type": "stream",
     "text": [
      "     A    B  C\n",
      "0  1.0  NaN  1\n",
      "1  2.0  2.0  2\n",
      "2  NaN  3.0  3\n"
     ]
    }
   ],
   "source": [
    "df = pd.DataFrame({\n",
    "    'A': [1, 2, np.nan],\n",
    "    'B': [np.nan, 2, 3],\n",
    "    'C': [1, 2, 3]\n",
    "})\n",
    "print(df)"
   ]
  },
  {
   "cell_type": "code",
   "execution_count": 35,
   "id": "833643e6",
   "metadata": {},
   "outputs": [
    {
     "name": "stdout",
     "output_type": "stream",
     "text": [
      "     A    B  C\n",
      "1  2.0  2.0  2\n"
     ]
    }
   ],
   "source": [
    "# Dropping missing data\n",
    "print(df.dropna())"
   ]
  },
  {
   "cell_type": "code",
   "execution_count": 41,
   "id": "579ae4b8",
   "metadata": {},
   "outputs": [
    {
     "name": "stdout",
     "output_type": "stream",
     "text": [
      "     A    B  C\n",
      "0  1.0  0.0  1\n",
      "1  2.0  2.0  2\n",
      "2  0.0  3.0  3\n",
      "     A    B  C\n",
      "0  1.0  NaN  1\n",
      "1  2.0  2.0  2\n",
      "2  2.0  3.0  3\n",
      "     A    B  C\n",
      "0  1.0  2.0  1\n",
      "1  2.0  2.0  2\n",
      "2  NaN  3.0  3\n"
     ]
    }
   ],
   "source": [
    "# Filling missing data\n",
    "print(df.fillna(0))\n",
    "print(df.ffill())  # Forward fill\n",
    "print(df.bfill())  # Backward fill"
   ]
  },
  {
   "cell_type": "markdown",
   "id": "9b87fe10",
   "metadata": {},
   "source": [
    "# Grouping and Aggregation"
   ]
  },
  {
   "cell_type": "markdown",
   "id": "6b695c27",
   "metadata": {},
   "source": [
    "### 1. Grouping"
   ]
  },
  {
   "cell_type": "code",
   "execution_count": 50,
   "id": "8afb7532",
   "metadata": {},
   "outputs": [
    {
     "name": "stdout",
     "output_type": "stream",
     "text": [
      "     A  C   D\n",
      "0  foo  1  10\n",
      "1  bar  2  20\n",
      "2  foo  3  30\n",
      "3  bar  4  40\n"
     ]
    }
   ],
   "source": [
    "data = {\n",
    "    'A': ['foo', 'bar', 'foo', 'bar'],\n",
    "#     'B': ['one', 'one', 'two', 'two'],\n",
    "    'C': [1, 2, 3, 4],\n",
    "    'D': [10, 20, 30, 40]\n",
    "}\n",
    "df = pd.DataFrame(data)\n",
    "print(df)"
   ]
  },
  {
   "cell_type": "code",
   "execution_count": 52,
   "id": "85037fe6",
   "metadata": {},
   "outputs": [
    {
     "name": "stdout",
     "output_type": "stream",
     "text": [
      "       C     D\n",
      "A             \n",
      "bar  3.0  30.0\n",
      "foo  2.0  20.0\n"
     ]
    }
   ],
   "source": [
    "grouped = df.groupby('A')\n",
    "print(grouped.mean())  # Mean of groups"
   ]
  },
  {
   "cell_type": "markdown",
   "id": "ed2e3ab6",
   "metadata": {},
   "source": [
    "### 2. Aggregation"
   ]
  },
  {
   "cell_type": "code",
   "execution_count": 53,
   "id": "7fc077ac",
   "metadata": {},
   "outputs": [
    {
     "name": "stdout",
     "output_type": "stream",
     "text": [
      "     C     D\n",
      "A           \n",
      "bar  6  30.0\n",
      "foo  4  20.0\n"
     ]
    }
   ],
   "source": [
    "print(df.groupby('A').agg({'C': 'sum', 'D': 'mean'}))"
   ]
  },
  {
   "cell_type": "markdown",
   "id": "eb0a87dd",
   "metadata": {},
   "source": [
    "# Merging and Joining"
   ]
  },
  {
   "cell_type": "markdown",
   "id": "66767390",
   "metadata": {},
   "source": [
    "### 1. Concatenation"
   ]
  },
  {
   "cell_type": "code",
   "execution_count": 54,
   "id": "46c4ce01",
   "metadata": {},
   "outputs": [
    {
     "name": "stdout",
     "output_type": "stream",
     "text": [
      "    A   B\n",
      "0  A0  B0\n",
      "1  A1  B1\n",
      "2  A2  B2\n",
      "3  A3  B3\n",
      "0  A4  B4\n",
      "1  A5  B5\n",
      "2  A6  B6\n",
      "3  A7  B7\n"
     ]
    }
   ],
   "source": [
    "df1 = pd.DataFrame({\n",
    "    'A': ['A0', 'A1', 'A2', 'A3'],\n",
    "    'B': ['B0', 'B1', 'B2', 'B3']\n",
    "})\n",
    "df2 = pd.DataFrame({\n",
    "    'A': ['A4', 'A5', 'A6', 'A7'],\n",
    "    'B': ['B4', 'B5', 'B6', 'B7']\n",
    "})\n",
    "\n",
    "result = pd.concat([df1, df2])\n",
    "print(result)"
   ]
  },
  {
   "cell_type": "markdown",
   "id": "fdb9b121",
   "metadata": {},
   "source": [
    "### 2. Merging:"
   ]
  },
  {
   "cell_type": "code",
   "execution_count": 55,
   "id": "57d8bdd3",
   "metadata": {},
   "outputs": [
    {
     "name": "stdout",
     "output_type": "stream",
     "text": [
      "  key   A   B\n",
      "0  K0  A0  B0\n",
      "1  K1  A1  B1\n",
      "2  K2  A2  B2\n"
     ]
    }
   ],
   "source": [
    "left = pd.DataFrame({\n",
    "    'key': ['K0', 'K1', 'K2', 'K3'],\n",
    "    'A': ['A0', 'A1', 'A2', 'A3']\n",
    "})\n",
    "right = pd.DataFrame({\n",
    "    'key': ['K0', 'K1', 'K2', 'K4'],\n",
    "    'B': ['B0', 'B1', 'B2', 'B3']\n",
    "})\n",
    "\n",
    "result = pd.merge(left, right, on='key', how='inner')  # Inner join\n",
    "print(result)"
   ]
  },
  {
   "cell_type": "markdown",
   "id": "17f056e0",
   "metadata": {},
   "source": [
    "### 3. Joining"
   ]
  },
  {
   "cell_type": "code",
   "execution_count": 56,
   "id": "d3b19658",
   "metadata": {},
   "outputs": [
    {
     "name": "stdout",
     "output_type": "stream",
     "text": [
      "       A    B\n",
      "key          \n",
      "K0    A0   B0\n",
      "K1    A1   B1\n",
      "K2    A2   B2\n",
      "K3    A3  NaN\n",
      "K4   NaN   B3\n"
     ]
    }
   ],
   "source": [
    "left = left.set_index('key')\n",
    "right = right.set_index('key')\n",
    "\n",
    "result = left.join(right, how='outer')  # Outer join\n",
    "print(result)"
   ]
  },
  {
   "cell_type": "markdown",
   "id": "55c3f44a",
   "metadata": {},
   "source": [
    "# Working with Dates"
   ]
  },
  {
   "cell_type": "markdown",
   "id": "7ab95e2b",
   "metadata": {},
   "source": [
    "### 1. Creating Date Ranges"
   ]
  },
  {
   "cell_type": "code",
   "execution_count": 63,
   "id": "a333b3a5",
   "metadata": {},
   "outputs": [
    {
     "name": "stdout",
     "output_type": "stream",
     "text": [
      "DatetimeIndex(['2023-01-01', '2023-01-02', '2023-01-03', '2023-01-04',\n",
      "               '2023-01-05', '2023-01-06', '2023-01-07', '2023-01-08',\n",
      "               '2023-01-09', '2023-01-10'],\n",
      "              dtype='datetime64[ns]', freq='D')\n",
      "2023-01-01   -0.829694\n",
      "2023-01-02   -0.349804\n",
      "2023-01-03   -1.046260\n",
      "2023-01-04   -0.188490\n",
      "2023-01-05   -0.938989\n",
      "2023-01-06   -0.309807\n",
      "2023-01-07   -0.177561\n",
      "2023-01-08   -0.292008\n",
      "2023-01-09   -0.813268\n",
      "2023-01-10   -0.184606\n",
      "Freq: D, dtype: float64\n"
     ]
    }
   ],
   "source": [
    "rng = pd.date_range('2023-01-01', periods=10, freq='D')\n",
    "print(rng)\n",
    "\n",
    "ts = pd.Series(np.random.randn(len(rng)), index=rng)\n",
    "print(ts)"
   ]
  },
  {
   "cell_type": "markdown",
   "id": "69215711",
   "metadata": {},
   "source": [
    "### 2. Date Manipulation"
   ]
  },
  {
   "cell_type": "code",
   "execution_count": 64,
   "id": "d0a4b6e0",
   "metadata": {},
   "outputs": [
    {
     "name": "stdout",
     "output_type": "stream",
     "text": [
      "2023-01-01   -0.829694\n",
      "2023-01-02   -1.179497\n",
      "2023-01-03   -2.225757\n",
      "2023-01-04   -2.414247\n",
      "2023-01-05   -3.353236\n",
      "2023-01-06   -3.663043\n",
      "2023-01-07   -3.840604\n",
      "2023-01-08   -4.132612\n",
      "2023-01-09   -4.945880\n",
      "2023-01-10   -5.130486\n",
      "Freq: D, dtype: float64\n"
     ]
    }
   ],
   "source": [
    "ts = ts.cumsum()\n",
    "print(ts)"
   ]
  },
  {
   "cell_type": "code",
   "execution_count": 65,
   "id": "69ad2b3f",
   "metadata": {},
   "outputs": [
    {
     "name": "stdout",
     "output_type": "stream",
     "text": [
      "2023-01-31   -3.171506\n",
      "Freq: ME, dtype: float64\n"
     ]
    }
   ],
   "source": [
    "# Resampling\n",
    "print(ts.resample('ME').mean())  # Monthly mean"
   ]
  },
  {
   "cell_type": "markdown",
   "id": "24ea7f5d",
   "metadata": {},
   "source": [
    "# Reading Data and Writing Data"
   ]
  },
  {
   "cell_type": "code",
   "execution_count": null,
   "id": "8fa0f8bb",
   "metadata": {},
   "outputs": [],
   "source": [
    "df = pd.read_csv('data.csv')  # CSV file\n",
    "print(df)\n",
    "\n",
    "df = pd.read_excel('data.xlsx')  # Excel file\n",
    "print(df)\n",
    "\n",
    "df = pd.read_sql('SELECT * FROM table', connection)  # SQL query\n",
    "print(df)"
   ]
  },
  {
   "cell_type": "code",
   "execution_count": null,
   "id": "f1c016cb",
   "metadata": {},
   "outputs": [],
   "source": [
    "df.to_csv('output.csv')\n",
    "df.to_excel('output.xlsx')\n",
    "df.to_sql('table', connection)"
   ]
  }
 ],
 "metadata": {
  "kernelspec": {
   "display_name": "Python 3 (ipykernel)",
   "language": "python",
   "name": "python3"
  },
  "language_info": {
   "codemirror_mode": {
    "name": "ipython",
    "version": 3
   },
   "file_extension": ".py",
   "mimetype": "text/x-python",
   "name": "python",
   "nbconvert_exporter": "python",
   "pygments_lexer": "ipython3",
   "version": "3.11.5"
  }
 },
 "nbformat": 4,
 "nbformat_minor": 5
}
