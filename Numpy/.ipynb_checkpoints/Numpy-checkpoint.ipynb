{
 "cells": [
  {
   "cell_type": "markdown",
   "id": "07104ec6",
   "metadata": {},
   "source": [
    "# Installation"
   ]
  },
  {
   "cell_type": "code",
   "execution_count": null,
   "id": "faea139b",
   "metadata": {},
   "outputs": [],
   "source": [
    "!pip install numpy"
   ]
  },
  {
   "cell_type": "markdown",
   "id": "293e621f",
   "metadata": {},
   "source": [
    "# Importing Numpy"
   ]
  },
  {
   "cell_type": "code",
   "execution_count": 1,
   "id": "8e0ca3bc",
   "metadata": {},
   "outputs": [],
   "source": [
    "import numpy as np"
   ]
  },
  {
   "cell_type": "markdown",
   "id": "f7f7c61f",
   "metadata": {},
   "source": [
    "# Creating Arrays"
   ]
  },
  {
   "cell_type": "markdown",
   "id": "ba873aa3",
   "metadata": {},
   "source": [
    "### From Python Array to Numpy Array"
   ]
  },
  {
   "cell_type": "code",
   "execution_count": 2,
   "id": "d304f6d3",
   "metadata": {},
   "outputs": [
    {
     "name": "stdout",
     "output_type": "stream",
     "text": [
      "[1 2 3 4 5]\n"
     ]
    }
   ],
   "source": [
    "arr = np.array([1, 2, 3, 4, 5])\n",
    "print(arr)"
   ]
  },
  {
   "cell_type": "markdown",
   "id": "722f042d",
   "metadata": {},
   "source": [
    "###  all zeros"
   ]
  },
  {
   "cell_type": "code",
   "execution_count": 3,
   "id": "67181fcb",
   "metadata": {},
   "outputs": [
    {
     "name": "stdout",
     "output_type": "stream",
     "text": [
      "[[0. 0. 0. 0.]\n",
      " [0. 0. 0. 0.]\n",
      " [0. 0. 0. 0.]]\n"
     ]
    }
   ],
   "source": [
    "zeros = np.zeros((3, 4)) # row, col\n",
    "print(zeros)"
   ]
  },
  {
   "cell_type": "markdown",
   "id": "9aa8899f",
   "metadata": {},
   "source": [
    "### all ones"
   ]
  },
  {
   "cell_type": "code",
   "execution_count": 4,
   "id": "471fa85f",
   "metadata": {},
   "outputs": [
    {
     "name": "stdout",
     "output_type": "stream",
     "text": [
      "[[1. 1. 1. 1.]\n",
      " [1. 1. 1. 1.]\n",
      " [1. 1. 1. 1.]]\n"
     ]
    }
   ],
   "source": [
    "ones = np.ones((3, 4)) # row, col\n",
    "print(ones)"
   ]
  },
  {
   "cell_type": "markdown",
   "id": "ef2d1ac8",
   "metadata": {},
   "source": [
    "### Empty Arrays (arbitrary values)"
   ]
  },
  {
   "cell_type": "code",
   "execution_count": 9,
   "id": "411dca23",
   "metadata": {},
   "outputs": [
    {
     "name": "stdout",
     "output_type": "stream",
     "text": [
      "[[6.23042070e-307 4.67296746e-307 1.69121096e-306]\n",
      " [1.24612081e-306 2.22523004e-307 1.78020440e-306]]\n"
     ]
    }
   ],
   "source": [
    "empty = np.empty((2, 3))\n",
    "print(empty)"
   ]
  },
  {
   "cell_type": "markdown",
   "id": "df21f985",
   "metadata": {},
   "source": [
    "### Arrays of a range of numbers"
   ]
  },
  {
   "cell_type": "code",
   "execution_count": 10,
   "id": "656d733d",
   "metadata": {},
   "outputs": [
    {
     "name": "stdout",
     "output_type": "stream",
     "text": [
      "[0 1 2 3 4 5 6 7 8 9]\n"
     ]
    }
   ],
   "source": [
    "arange = np.arange(10) # 0 -9\n",
    "print(arange)"
   ]
  },
  {
   "cell_type": "markdown",
   "id": "c1d8e062",
   "metadata": {},
   "source": [
    "###  Array with values spaced linearly between two points"
   ]
  },
  {
   "cell_type": "code",
   "execution_count": 13,
   "id": "e35f2323",
   "metadata": {},
   "outputs": [
    {
     "name": "stdout",
     "output_type": "stream",
     "text": [
      "[0.   0.25 0.5  0.75 1.  ]\n"
     ]
    }
   ],
   "source": [
    "linspace = np.linspace(0, 1, 5)# start, stop, count\n",
    "print(linspace)"
   ]
  },
  {
   "cell_type": "markdown",
   "id": "82a00519",
   "metadata": {},
   "source": [
    "# Array Attributes"
   ]
  },
  {
   "cell_type": "code",
   "execution_count": 25,
   "id": "49546bc5",
   "metadata": {},
   "outputs": [
    {
     "name": "stdout",
     "output_type": "stream",
     "text": [
      "[[[ 1  2  3]\n",
      "  [ 4  5  6]]\n",
      "\n",
      " [[ 7  8  9]\n",
      "  [10 11 12]]]\n"
     ]
    }
   ],
   "source": [
    "arr = np.array([[[1,2,3], [4,5,6]],[[7,8,9], [10,11,12]]])\n",
    "print(arr)"
   ]
  },
  {
   "cell_type": "code",
   "execution_count": 26,
   "id": "4cd9d186",
   "metadata": {},
   "outputs": [
    {
     "name": "stdout",
     "output_type": "stream",
     "text": [
      "Shape: (2, 2, 3)\n",
      "Number of dimensions: 3\n",
      "Size: 12\n",
      "Data type: int32\n",
      "Item size in bytes: 4\n"
     ]
    }
   ],
   "source": [
    "print(\"Shape:\", arr.shape)\n",
    "print(\"Number of dimensions:\", arr.ndim)\n",
    "print(\"Size:\", arr.size)\n",
    "print(\"Data type:\", arr.dtype)\n",
    "print(\"Item size in bytes:\", arr.itemsize)"
   ]
  },
  {
   "cell_type": "markdown",
   "id": "04f84aab",
   "metadata": {},
   "source": [
    "# Reshaping Arrays"
   ]
  },
  {
   "cell_type": "code",
   "execution_count": 27,
   "id": "bdf65872",
   "metadata": {},
   "outputs": [
    {
     "name": "stdout",
     "output_type": "stream",
     "text": [
      "[[ 0  1  2  3]\n",
      " [ 4  5  6  7]\n",
      " [ 8  9 10 11]]\n"
     ]
    }
   ],
   "source": [
    "arr = np.arange(12).reshape(3,4)\n",
    "print(arr)"
   ]
  },
  {
   "cell_type": "markdown",
   "id": "4800bcac",
   "metadata": {},
   "source": [
    "# Basic Operations"
   ]
  },
  {
   "cell_type": "markdown",
   "id": "94f35bc5",
   "metadata": {},
   "source": [
    "### 1. Elementwise Operation"
   ]
  },
  {
   "cell_type": "code",
   "execution_count": 30,
   "id": "346592ac",
   "metadata": {},
   "outputs": [
    {
     "name": "stdout",
     "output_type": "stream",
     "text": [
      "[5 7 9]\n",
      "[-3 -3 -3]\n",
      "[ 4 10 18]\n",
      "[0.25 0.4  0.5 ]\n"
     ]
    }
   ],
   "source": [
    "a = np.array([1,2,3])\n",
    "b = np. array([4,5,6])\n",
    "print(a + b)  # Addition\n",
    "print(a - b)  # Subtraction\n",
    "print(a * b)  # Elementwise multiplication\n",
    "print(a / b)  # Elementwise division"
   ]
  },
  {
   "cell_type": "markdown",
   "id": "c5eb63cb",
   "metadata": {},
   "source": [
    "### 2. Matrix Operations"
   ]
  },
  {
   "cell_type": "code",
   "execution_count": 34,
   "id": "97531856",
   "metadata": {},
   "outputs": [
    {
     "name": "stdout",
     "output_type": "stream",
     "text": [
      "[[19 22]\n",
      " [43 50]]\n",
      "[[19 22]\n",
      " [43 50]]\n"
     ]
    }
   ],
   "source": [
    "a = np.array([[1, 2], [3, 4]])\n",
    "b = np.array([[5, 6], [7, 8]])\n",
    "print(np.dot(a, b))  # Matrix multiplication\n",
    "print(a @ b)  # Matrix multiplication using @ operator"
   ]
  },
  {
   "cell_type": "markdown",
   "id": "47f9d119",
   "metadata": {},
   "source": [
    "# Universal Functions (ufunc)"
   ]
  },
  {
   "cell_type": "code",
   "execution_count": 35,
   "id": "6fe8fe3d",
   "metadata": {},
   "outputs": [
    {
     "name": "stdout",
     "output_type": "stream",
     "text": [
      "[ 2.71828183  7.3890561  20.08553692 54.59815003]\n",
      "[1.         1.41421356 1.73205081 2.        ]\n",
      "[ 0.84147098  0.90929743  0.14112001 -0.7568025 ]\n",
      "[0.         0.69314718 1.09861229 1.38629436]\n"
     ]
    }
   ],
   "source": [
    "arr = np.array([1, 2, 3, 4])\n",
    "print(np.exp(arr))  # Exponential (e^x)\n",
    "print(np.sqrt(arr))  # Square root\n",
    "print(np.sin(arr))  # Sine sin(x)\n",
    "print(np.log(arr))  # Natural logarithm ln(x) or logE(x)"
   ]
  },
  {
   "cell_type": "markdown",
   "id": "77e547f5",
   "metadata": {},
   "source": [
    "# Indexing, Slicing, and Iterating"
   ]
  },
  {
   "cell_type": "markdown",
   "id": "ea26903e",
   "metadata": {},
   "source": [
    "### 1. Indexing"
   ]
  },
  {
   "cell_type": "code",
   "execution_count": 36,
   "id": "42724c4b",
   "metadata": {},
   "outputs": [
    {
     "name": "stdout",
     "output_type": "stream",
     "text": [
      "1\n",
      "5\n",
      "1\n",
      "6\n"
     ]
    }
   ],
   "source": [
    "arr = np.array([1, 2, 3, 4, 5])\n",
    "print(arr[0])  # First element\n",
    "print(arr[-1])  # Last element\n",
    "\n",
    "matrix = np.array([[1, 2, 3], [4, 5, 6], [7, 8, 9]])\n",
    "print(matrix[0, 0])  # First element of the first row\n",
    "print(matrix[1, 2])  # Third element of the second row"
   ]
  },
  {
   "cell_type": "markdown",
   "id": "bdadb103",
   "metadata": {},
   "source": [
    "### 2. Slicing"
   ]
  },
  {
   "cell_type": "code",
   "execution_count": 37,
   "id": "643b0a4d",
   "metadata": {},
   "outputs": [
    {
     "name": "stdout",
     "output_type": "stream",
     "text": [
      "[2 3 4]\n",
      "[2 5 8]\n",
      "[4 5 6]\n",
      "[[5 6]\n",
      " [8 9]]\n"
     ]
    }
   ],
   "source": [
    "arr = np.array([1, 2, 3, 4, 5])\n",
    "print(arr[1:4])  # Elements from index 1 to 3\n",
    "\n",
    "matrix = np.array([[1, 2, 3], [4, 5, 6], [7, 8, 9]])\n",
    "print(matrix[:, 1])  # All rows, second column\n",
    "print(matrix[1, :])  # Second row, all columns\n",
    "print(matrix[1:3, 1:3])  # Elements from row 1 to 2 and column 1 to 2"
   ]
  },
  {
   "cell_type": "markdown",
   "id": "3955b805",
   "metadata": {},
   "source": [
    "### 3. Iterating"
   ]
  },
  {
   "cell_type": "code",
   "execution_count": 38,
   "id": "87fd4a1a",
   "metadata": {},
   "outputs": [
    {
     "name": "stdout",
     "output_type": "stream",
     "text": [
      "1\n",
      "2\n",
      "3\n",
      "[1 2 3]\n",
      "[4 5 6]\n",
      "[7 8 9]\n",
      "1\n",
      "2\n",
      "3\n",
      "4\n",
      "5\n",
      "6\n",
      "7\n",
      "8\n",
      "9\n"
     ]
    }
   ],
   "source": [
    "arr = np.array([1, 2, 3])\n",
    "for i in arr:\n",
    "    print(i)\n",
    "\n",
    "matrix = np.array([[1, 2, 3], [4, 5, 6], [7, 8, 9]])\n",
    "for row in matrix:\n",
    "    print(row)\n",
    "\n",
    "for element in matrix.flat:\n",
    "    print(element)"
   ]
  },
  {
   "cell_type": "markdown",
   "id": "f3a64444",
   "metadata": {},
   "source": [
    "# Array Manipulation"
   ]
  },
  {
   "cell_type": "markdown",
   "id": "54f3674c",
   "metadata": {},
   "source": [
    "### 1. Changing Shape:"
   ]
  },
  {
   "cell_type": "code",
   "execution_count": 43,
   "id": "20c3e16f",
   "metadata": {},
   "outputs": [
    {
     "name": "stdout",
     "output_type": "stream",
     "text": [
      "[[0 1 2]\n",
      " [3 4 5]]\n",
      "[0 1 2 3 4 5]\n",
      "[0 1 2 3 4 5]\n",
      "[[0 1]\n",
      " [2 3]\n",
      " [4 5]]\n"
     ]
    }
   ],
   "source": [
    "arr = np.arange(6).reshape(2, 3)\n",
    "print(arr)\n",
    "print(arr.ravel())  # Flatten the array\n",
    "print(arr.flatten()) # Flatten the array\n",
    "print(arr.reshape(3, 2))  # Reshape the array"
   ]
  },
  {
   "cell_type": "markdown",
   "id": "454fafc2",
   "metadata": {},
   "source": [
    "### 2. Stacking Arrays:"
   ]
  },
  {
   "cell_type": "code",
   "execution_count": 44,
   "id": "b5efdce0",
   "metadata": {},
   "outputs": [
    {
     "name": "stdout",
     "output_type": "stream",
     "text": [
      "[1 2 3 4]\n",
      "[[1 2]\n",
      " [3 4]]\n"
     ]
    }
   ],
   "source": [
    "a = np.array([1, 2])\n",
    "b = np.array([3, 4])\n",
    "print(np.hstack((a, b)))  # Horizontal stack\n",
    "print(np.vstack((a, b)))  # Vertical stack"
   ]
  },
  {
   "cell_type": "markdown",
   "id": "baa959c7",
   "metadata": {},
   "source": [
    "### 3. Splitting Arrays:"
   ]
  },
  {
   "cell_type": "code",
   "execution_count": 45,
   "id": "dcc16580",
   "metadata": {},
   "outputs": [
    {
     "name": "stdout",
     "output_type": "stream",
     "text": [
      "[array([0, 1]), array([2, 3]), array([4, 5]), array([6, 7]), array([8, 9])]\n"
     ]
    }
   ],
   "source": [
    "arr = np.arange(10)\n",
    "print(np.split(arr, 5))  # Split into 5 parts"
   ]
  },
  {
   "cell_type": "markdown",
   "id": "3c5d58b6",
   "metadata": {},
   "source": [
    "# Copies and Views"
   ]
  },
  {
   "cell_type": "markdown",
   "id": "d1103876",
   "metadata": {},
   "source": [
    "### 1. No Copy"
   ]
  },
  {
   "cell_type": "code",
   "execution_count": 48,
   "id": "d6ea9b66",
   "metadata": {},
   "outputs": [
    {
     "name": "stdout",
     "output_type": "stream",
     "text": [
      "[99  2  3]\n"
     ]
    }
   ],
   "source": [
    "a = np.array([1, 2, 3])\n",
    "b = a # or b = a.view()\n",
    "b[0] = 99\n",
    "print(a)  # a is also modified"
   ]
  },
  {
   "cell_type": "markdown",
   "id": "49731caf",
   "metadata": {},
   "source": [
    "### 2. Deep Copy"
   ]
  },
  {
   "cell_type": "code",
   "execution_count": 50,
   "id": "61d7a03f",
   "metadata": {},
   "outputs": [
    {
     "name": "stdout",
     "output_type": "stream",
     "text": [
      "[1 2 3]\n"
     ]
    }
   ],
   "source": [
    "a = np.array([1, 2, 3])\n",
    "b = a.copy()\n",
    "b[0] = 99\n",
    "print(a)  # a is not modified"
   ]
  },
  {
   "cell_type": "markdown",
   "id": "b34f36c6",
   "metadata": {},
   "source": [
    "# Linear Algebra"
   ]
  },
  {
   "cell_type": "code",
   "execution_count": 51,
   "id": "64152586",
   "metadata": {},
   "outputs": [
    {
     "name": "stdout",
     "output_type": "stream",
     "text": [
      "[[-2.   1. ]\n",
      " [ 1.5 -0.5]]\n",
      "-2.0000000000000004\n",
      "EigResult(eigenvalues=array([-0.37228132,  5.37228132]), eigenvectors=array([[-0.82456484, -0.41597356],\n",
      "       [ 0.56576746, -0.90937671]]))\n"
     ]
    }
   ],
   "source": [
    "a = np.array([[1, 2], [3, 4]])\n",
    "print(np.linalg.inv(a))  # Inverse of a matrix\n",
    "print(np.linalg.det(a))  # Determinant of a matrix\n",
    "print(np.linalg.eig(a))  # Eigenvalues and eigenvectors"
   ]
  },
  {
   "cell_type": "markdown",
   "id": "6e067f74",
   "metadata": {},
   "source": [
    "![Inverse](./inverse_matrix.jpg)"
   ]
  },
  {
   "cell_type": "markdown",
   "id": "243b31bf",
   "metadata": {},
   "source": [
    "![determinant_matrix](./determinant_matrix.png)"
   ]
  },
  {
   "cell_type": "markdown",
   "id": "974bcf09",
   "metadata": {},
   "source": [
    "# Random Numbers"
   ]
  },
  {
   "cell_type": "code",
   "execution_count": 52,
   "id": "d1b01fae",
   "metadata": {},
   "outputs": [
    {
     "name": "stdout",
     "output_type": "stream",
     "text": [
      "[[0.5284454  0.27954639]\n",
      " [0.27277175 0.27451312]\n",
      " [0.81724316 0.03965556]]\n",
      "[[2 4 1]\n",
      " [2 7 4]\n",
      " [4 1 5]]\n",
      "[[-0.88861006  1.70205654  0.46812347]\n",
      " [-1.55240078 -0.37880431 -0.63992125]\n",
      " [ 0.39389517 -0.3192457  -0.80201731]]\n",
      "[3 2 2]\n"
     ]
    }
   ],
   "source": [
    "print(np.random.rand(3, 2))  # Random numbers in [0, 1)\n",
    "print(np.random.randint(0, 10, (3, 3)))  # Random integers between 0 and 10\n",
    "print(np.random.normal(0, 1, (3, 3)))  # Samples from a normal distribution\n",
    "print(np.random.choice([1, 2, 3, 4, 5], 3))  # Randomly choose 3 elements from the list"
   ]
  },
  {
   "cell_type": "code",
   "execution_count": null,
   "id": "cd3a8889",
   "metadata": {},
   "outputs": [],
   "source": []
  },
  {
   "cell_type": "markdown",
   "id": "f04b1ae2",
   "metadata": {},
   "source": [
    "# Exercise"
   ]
  },
  {
   "cell_type": "code",
   "execution_count": 53,
   "id": "1fde4251",
   "metadata": {},
   "outputs": [],
   "source": [
    "import numpy as np"
   ]
  },
  {
   "cell_type": "code",
   "execution_count": 54,
   "id": "be77981a",
   "metadata": {},
   "outputs": [
    {
     "data": {
      "text/plain": [
       "'1.26.4'"
      ]
     },
     "execution_count": 54,
     "metadata": {},
     "output_type": "execute_result"
    }
   ],
   "source": [
    "np.__version__"
   ]
  },
  {
   "cell_type": "code",
   "execution_count": 55,
   "id": "98b97508",
   "metadata": {},
   "outputs": [
    {
     "data": {
      "text/plain": [
       "array([0, 1, 2, 3, 4, 5, 6, 7, 8, 9])"
      ]
     },
     "execution_count": 55,
     "metadata": {},
     "output_type": "execute_result"
    }
   ],
   "source": [
    "np.arange(10)"
   ]
  },
  {
   "cell_type": "code",
   "execution_count": 58,
   "id": "86d84091",
   "metadata": {},
   "outputs": [
    {
     "data": {
      "text/plain": [
       "array([[ True,  True,  True],\n",
       "       [ True,  True,  True],\n",
       "       [ True,  True,  True]])"
      ]
     },
     "execution_count": 58,
     "metadata": {},
     "output_type": "execute_result"
    }
   ],
   "source": [
    "np.ones([3,3],dtype=bool)\n",
    "np.full([3,3],True, dtype=bool)"
   ]
  },
  {
   "cell_type": "code",
   "execution_count": 60,
   "id": "e82f2e56",
   "metadata": {},
   "outputs": [
    {
     "name": "stdout",
     "output_type": "stream",
     "text": [
      "[1 3 5 7 9]\n",
      "[1 3 5 7 9]\n"
     ]
    }
   ],
   "source": [
    "arr = np.array([0, 1, 2, 3, 4, 5, 6, 7, 8, 9])\n",
    "print(arr[1:10:2])\n",
    "print(arr[arr % 2 == 1])"
   ]
  },
  {
   "cell_type": "code",
   "execution_count": 62,
   "id": "f8d17790",
   "metadata": {},
   "outputs": [
    {
     "data": {
      "text/plain": [
       "array([ 0, -1,  2, -1,  4, -1,  6, -1,  8, -1])"
      ]
     },
     "execution_count": 62,
     "metadata": {},
     "output_type": "execute_result"
    }
   ],
   "source": [
    "arr = np.array([0, 1, 2, 3, 4, 5, 6, 7, 8, 9])\n",
    "arr[arr%2 == 1] = -1\n",
    "arr"
   ]
  },
  {
   "cell_type": "code",
   "execution_count": 63,
   "id": "561675e3",
   "metadata": {},
   "outputs": [
    {
     "name": "stdout",
     "output_type": "stream",
     "text": [
      "[0 1 2 3 4 5 6 7 8 9]\n"
     ]
    },
    {
     "data": {
      "text/plain": [
       "array([ 0, -1,  2, -1,  4, -1,  6, -1,  8, -1])"
      ]
     },
     "execution_count": 63,
     "metadata": {},
     "output_type": "execute_result"
    }
   ],
   "source": [
    "arr = np.arange(10)\n",
    "out = np.where(arr % 2 == 1, -1, arr)\n",
    "print(arr)\n",
    "out"
   ]
  },
  {
   "cell_type": "code",
   "execution_count": 66,
   "id": "a7b1efd0",
   "metadata": {},
   "outputs": [],
   "source": [
    "arr = np.arange(10).reshape([2,-1])"
   ]
  },
  {
   "cell_type": "code",
   "execution_count": 67,
   "id": "e6c2765f",
   "metadata": {},
   "outputs": [
    {
     "data": {
      "text/plain": [
       "array([[0, 1, 2, 3, 4],\n",
       "       [5, 6, 7, 8, 9]])"
      ]
     },
     "execution_count": 67,
     "metadata": {},
     "output_type": "execute_result"
    }
   ],
   "source": [
    "arr"
   ]
  },
  {
   "cell_type": "code",
   "execution_count": 78,
   "id": "8a615f54",
   "metadata": {},
   "outputs": [
    {
     "name": "stdout",
     "output_type": "stream",
     "text": [
      "[[0 1 2 3 4]\n",
      " [5 6 7 8 9]]\n",
      "[[1 1 1 1 1]\n",
      " [1 1 1 1 1]]\n",
      "[[0 1 2 3 4]\n",
      " [5 6 7 8 9]\n",
      " [1 1 1 1 1]\n",
      " [1 1 1 1 1]]\n",
      "[[0 1 2 3 4 1 1 1 1 1]\n",
      " [5 6 7 8 9 1 1 1 1 1]]\n",
      "[[0 1 2 3 4]\n",
      " [5 6 7 8 9]\n",
      " [1 1 1 1 1]\n",
      " [1 1 1 1 1]]\n"
     ]
    }
   ],
   "source": [
    "a = np.arange(10).reshape(2,-1)\n",
    "b = np.repeat(1, 10).reshape(2,-1)\n",
    "print(a)\n",
    "print(b)\n",
    "c = np.vstack([a,b])\n",
    "d = np.hstack([a,b])\n",
    "e = np.concatenate([a,b], axis=0)\n",
    "print(c)\n",
    "print(d)\n",
    "print(e)"
   ]
  },
  {
   "cell_type": "markdown",
   "id": "096a2d3e",
   "metadata": {},
   "source": [
    "https://www.machinelearningplus.com/python/101-numpy-exercises-python/"
   ]
  },
  {
   "cell_type": "markdown",
   "id": "e136fe32",
   "metadata": {},
   "source": [
    "until Q9"
   ]
  }
 ],
 "metadata": {
  "kernelspec": {
   "display_name": "Python 3 (ipykernel)",
   "language": "python",
   "name": "python3"
  },
  "language_info": {
   "codemirror_mode": {
    "name": "ipython",
    "version": 3
   },
   "file_extension": ".py",
   "mimetype": "text/x-python",
   "name": "python",
   "nbconvert_exporter": "python",
   "pygments_lexer": "ipython3",
   "version": "3.11.5"
  }
 },
 "nbformat": 4,
 "nbformat_minor": 5
}
